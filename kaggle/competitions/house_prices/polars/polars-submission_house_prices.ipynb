{
 "cells": [
  {
   "cell_type": "markdown",
   "id": "98ee120a-ca07-4759-a0e4-688689e156ad",
   "metadata": {
    "tags": []
   },
   "source": [
    "# <b>House Prices - Polars & RandomForestRegressor</b>\n",
    "Competition information may be found on the following link: [House Prices - Advanced Regression Techniques](https://www.kaggle.com/competitions/house-prices-advanced-regression-techniques/overview). Bare in mind that the main motivation behind the usage of polars comes from the following articles in which it is stated how huge of an improvement it supposes in terms of performance against other frameworks such as Pandas: [Database-like ops benchmark](https://h2oai.github.io/db-benchmark/)\n",
    "\n",
    "The outcome of this notebook supposes a top 40% score at the moment of edition."
   ]
  },
  {
   "cell_type": "markdown",
   "id": "dbb6e7d2-04f9-4b21-80a3-8356b0be0b43",
   "metadata": {},
   "source": [
    "## Imports & configuration"
   ]
  },
  {
   "cell_type": "code",
   "execution_count": 69,
   "id": "9c6f6d0d-bf87-4b71-bc4e-19dc4e050ea3",
   "metadata": {},
   "outputs": [],
   "source": [
    "import time\n",
    "import numpy as np\n",
    "import pandas as pd\n",
    "import polars as pl\n",
    "from sklearn.ensemble import RandomForestRegressor\n",
    "from sklearn.feature_selection import SelectFromModel\n",
    "from sklearn.model_selection import GridSearchCV, train_test_split\n",
    "from sklearn.tree import DecisionTreeClassifier\n",
    "from sklearn.metrics import make_scorer, mean_squared_error, mean_absolute_error, r2_score, mean_squared_log_error"
   ]
  },
  {
   "cell_type": "code",
   "execution_count": 2,
   "id": "d24929a3-40e4-4164-af4e-3e047f1a9ffc",
   "metadata": {},
   "outputs": [],
   "source": [
    "pl.Config.set_tbl_rows(100)\n",
    "pd.set_option('display.max_columns', None)\n",
    "pd.set_option('display.max_rows', None)"
   ]
  },
  {
   "cell_type": "markdown",
   "id": "40e6b70a-b02a-4a0b-9804-e4a3380cb799",
   "metadata": {
    "tags": []
   },
   "source": [
    "## Read train dataframe"
   ]
  },
  {
   "cell_type": "code",
   "execution_count": 56,
   "id": "b7d83a90-6609-49f1-a2bf-959ff806c9fa",
   "metadata": {},
   "outputs": [],
   "source": [
    "def data_preparation(csv_file: str):\n",
    "    # Load dataframe\n",
    "    df = pl.from_pandas(pd.read_csv(csv_file))\n",
    "\n",
    "    # Remove columns with a high level of nulls and columns with a lower sample coverage than 80%\n",
    "    df = df.drop(\n",
    "        [\"MiscFeature\", \"Fence\", \"PoolQC\", \"Alley\", \"FireplaceQu\"] + ['MSZoning', 'Utilities']\n",
    "    )\n",
    "    \n",
    "    # NULL FILLING STRATEGY\n",
    "    ## LotFrontage: data_description.txt indicates NAs mean no frontage, i.e. 0.0 area \n",
    "    df = df.with_columns(\n",
    "        LotFrontage=pl.col(\"LotFrontage\").fill_null(0.0),)\n",
    "    \n",
    "    ## MasVnrArea/MasVnrType: relation between area and type allow us to extract the missing values, \n",
    "    ## since it means we do not have those values\n",
    "    df = df.with_columns(\n",
    "        MasVnrArea=pl.when(\n",
    "            (pl.col(\"MasVnrType\") == \"None\") & (pl.col(\"MasVnrArea\") != 0.0)).then(pl.lit(0.0))\n",
    "        .otherwise(pl.col(\"MasVnrArea\")).fill_null(pl.lit(\"0.0\")),\n",
    "        MasVnrType=pl.when(\n",
    "            (pl.col(\"MasVnrType\") != \"None\") & (pl.col(\"MasVnrArea\") == 0.0)).then(pl.lit(\"None\"))\n",
    "        .otherwise(pl.col(\"MasVnrType\")).fill_null(pl.lit(\"None\")),)\n",
    "    \n",
    "    ## BsmtExposure/BsmtFinType2/Electrical: fill utilising mode\n",
    "    df = df.with_columns(\n",
    "        BsmtExposure=pl.when(\n",
    "            (pl.col(\"BsmtExposure\").is_null()) & (~pl.col(\"BsmtCond\").is_null())).then(pl.col(\"BsmtExposure\").mode())\n",
    "        .otherwise(pl.col(\"BsmtExposure\")).fill_null(\"NA\"),\n",
    "        BsmtFinType2=pl.when(\n",
    "            (pl.col(\"BsmtFinType2\").is_null()) & (pl.col(\"BsmtFinSF2\") != 0)).then(pl.col(\"BsmtFinType2\").mode())\n",
    "        .otherwise(pl.col(\"BsmtFinType2\")).fill_null(\"NA\"),\n",
    "        Electrical=pl.col(\"Electrical\").fill_null(pl.col(\"Electrical\").mode()),)\n",
    "\n",
    "    ## Bsmt & Garage: unknown information in small amounts\n",
    "    df = df.with_columns(\n",
    "        BsmtQual=pl.col(\"BsmtQual\").fill_null(\"NA\"),\n",
    "        BsmtCond=pl.col(\"BsmtCond\").fill_null(\"NA\"),\n",
    "        BsmtFinType1=pl.col(\"BsmtFinType1\").fill_null(\"NA\"),\n",
    "        GarageType=(pl.col(\"GarageType\").fill_null(pl.lit(\"NA\"))),\n",
    "        GarageYrBlt=(pl.col(\"GarageYrBlt\").fill_null(pl.lit(\"NA\"))),\n",
    "        GarageFinish=(pl.col(\"GarageFinish\").fill_null(pl.lit(\"NA\"))),\n",
    "        GarageQual=(pl.col(\"GarageQual\").fill_null(pl.lit(\"NA\"))),\n",
    "        GarageCond=(pl.col(\"GarageCond\").fill_null(pl.lit(\"NA\"))),\n",
    "    )\n",
    "\n",
    "    # NONLINEAR TRANSFORMS OVER NUMERICAL COLUMNS\n",
    "    ## Logarithm and square root of numerical columns\n",
    "    NUMERIC_POLARS_DTYPES = [\n",
    "        pl.Int8, pl.Int16, pl.Int32, pl.Int64, pl.UInt8, pl.UInt16, pl.UInt32, pl.UInt64, pl.Float32, pl.Float64, \n",
    "    ]\n",
    "    num_cols = [col for col in df.select(pl.col(NUMERIC_POLARS_DTYPES)).columns if col != \"SalePrice\"]\n",
    "    for col in num_cols:\n",
    "        df = df.with_columns(\n",
    "            np.log(pl.col(col)).alias(col + \"_log\"),\n",
    "            np.sqrt(pl.col(col)).alias(col + \"_sqrt\"))\n",
    "\n",
    "    # CATEGORICAL ENCODING\n",
    "    ## Assign categories with relatable numerical correspondance\n",
    "    ## ExterQual, ExterCond, BsmtQual, BsmtCond, HeatingQC, KitchenQual, GarageQual, GarageCond\n",
    "    mapper_quality = {\n",
    "        'NA': 0, 'Po': 1, 'Fa': 2, 'TA': 3, 'Gd': 4, 'Ex': 5,\n",
    "    }\n",
    "\n",
    "    ## BsmtExposure\n",
    "    mapper_exposure = {\n",
    "        'NA': 0, 'No': 1, 'Mn': 2, 'Av': 3, 'Gd': 4,\n",
    "    }\n",
    "\n",
    "    ## CentralAir\n",
    "    mapper_centair = {\n",
    "        'N': 0, 'Y': 1\n",
    "    }\n",
    "\n",
    "    ## Electrical\n",
    "    mapper_elec = {\n",
    "        'FuseA': 1, 'FuseF': 1, 'FuseP': 1, 'Mix': 1,\n",
    "        'SBrkr': 2\n",
    "    }\n",
    "\n",
    "    df = df.with_columns(\n",
    "        ExterQual_num=pl.col(\"ExterQual\").map_dict(mapper_quality),\n",
    "        ExterCond_num=pl.col(\"ExterCond\").map_dict(mapper_quality),\n",
    "        BsmtQual_num=pl.col(\"BsmtQual\").map_dict(mapper_quality),\n",
    "        BsmtCond_num=pl.col(\"BsmtCond\").map_dict(mapper_quality),\n",
    "        HeatingQC_num=pl.col(\"HeatingQC\").map_dict(mapper_quality),\n",
    "        KitchenQual_num=pl.col(\"KitchenQual\").map_dict(mapper_quality),\n",
    "        GarageQual_num=pl.col(\"GarageQual\").map_dict(mapper_quality),\n",
    "        GarageCond_num=pl.col(\"GarageCond\").map_dict(mapper_quality),\n",
    "        BsmtExposure_num=pl.col(\"BsmtExposure\").map_dict(mapper_exposure),\n",
    "        CentralAir_num=pl.col(\"CentralAir\").map_dict(mapper_centair),\n",
    "        Electrical_num=pl.col(\"Electrical\").map_dict(mapper_elec),\n",
    "    ).drop(\n",
    "        \"ExterQual\", \"ExterCond\", \"BsmtQual\", \"BsmtCond\", \"HeatingQC\", \n",
    "        \"KitchenQual\", \"GarageQual\", \"GarageCond\",\n",
    "        \"BsmtExposure\", \"CentralAir\", \"Electrical\"\n",
    "    )\n",
    "    \n",
    "    # FEATURE ENGINEERING\n",
    "    ## - Remod: Whether it has been remodelated or not\n",
    "    ## - RemodConst2Sold: Define category from years since remod or construction to being sold\n",
    "    ##       4: 0-9, 3: 10-24, 2: 25-49, 1: 50-inf\n",
    "    ## - Floors\n",
    "    ## - TotalLivingSF: Total square feet of living area\n",
    "    ## - ExtrasSF: Total extras square feet\n",
    "    ## - Garage, WoodDeck, OpenPorch, HasEnclosedPorch, ThreeSsnPorch, HasScreenPorch, Pool\n",
    "    ## Whether there is any of the above mentioned amenities\n",
    "    ## - Bathrooms: Aggregated volume of bathrooms\n",
    "    ## - SurelyRich: Information whether the house is sold on high prices if it has either:\n",
    "    ##    special heating, screenPorch or if MiscVal > 1000\n",
    "    ## - Livability: Livability score, qual * cond\n",
    "    df = df.with_columns(\n",
    "        Remod=pl.when(\n",
    "            (pl.col(\"YearBuilt\") == pl.col(\"YearRemodAdd\"))).then(pl.lit(0))\n",
    "        .otherwise(pl.lit(1)),\n",
    "        RemodConst2Sold=pl.when(\n",
    "            (pl.col(\"YrSold\") - pl.col(\"YearRemodAdd\")) >= 50).then(pl.lit(1))\n",
    "        .when(\n",
    "            ((pl.col(\"YrSold\") - pl.col(\"YearRemodAdd\")) < 50) &\n",
    "            ((pl.col(\"YrSold\") - pl.col(\"YearRemodAdd\")) >= 25)).then(pl.lit(2))\n",
    "        .when(\n",
    "            ((pl.col(\"YrSold\") - pl.col(\"YearRemodAdd\")) < 25) &\n",
    "            ((pl.col(\"YrSold\") - pl.col(\"YearRemodAdd\")) >= 10)).then(pl.lit(3))\n",
    "        .when((pl.col(\"YrSold\") - pl.col(\"YearRemodAdd\")) < 10).then(pl.lit(4)),\n",
    "        Floors=pl.when((pl.col(\"1stFlrSF\") > 0) & (pl.col(\"2ndFlrSF\") > 0)).then(pl.lit(3))\n",
    "            .when((pl.col(\"1stFlrSF\") > 0) & (pl.col(\"2ndFlrSF\") == 0)).then(pl.lit(2))\n",
    "            .when((pl.col(\"1stFlrSF\") == 0) & (pl.col(\"2ndFlrSF\") == 0)).then(pl.lit(1)),\n",
    "        TotalLivingSF=pl.col(\"GrLivArea\") + pl.col(\"TotalBsmtSF\"),\n",
    "        ExtrasSF=pl.col(\"GarageArea\") + pl.col(\"WoodDeckSF\") + pl.col(\"OpenPorchSF\") + pl.col(\"EnclosedPorch\") + pl.col(\"3SsnPorch\") + pl.col(\"ScreenPorch\") + pl.col(\"PoolArea\"),\n",
    "        Garage=pl.when((pl.col(\"GarageArea\") > 0)).then(1).otherwise(0),\n",
    "        WoodDeck=pl.when((pl.col(\"WoodDeckSF\") > 0)).then(1).otherwise(0),\n",
    "        OpenPorch=pl.when((pl.col(\"OpenPorchSF\") > 0)).then(1).otherwise(0),\n",
    "        HasEnclosedPorch=pl.when((pl.col(\"EnclosedPorch\") > 0)).then(1).otherwise(0),\n",
    "        ThreeSsnPorch=pl.when((pl.col(\"3SsnPorch\") > 0)).then(1).otherwise(0),\n",
    "        HasScreenPorch=pl.when((pl.col(\"ScreenPorch\") > 0)).then(1).otherwise(0),\n",
    "        Pool=pl.when((pl.col(\"PoolArea\") > 0)).then(1).otherwise(0),\n",
    "        Bathrooms=pl.col(\"BsmtFullBath\") + pl.col(\"FullBath\") + 0.5 * pl.col(\"BsmtHalfBath\") + 0.5 * pl.col(\"BsmtHalfBath\"),\n",
    "        SurelyRich=pl.when(\n",
    "            (pl.col(\"ScreenPorch\") > 0) |\n",
    "            (pl.col(\"PoolArea\") > 0) |\n",
    "            (pl.col(\"MiscVal\") > 3000) |\n",
    "            (pl.col(\"Heating\") == \"Floor\")).then(1)\n",
    "        .otherwise(0),\n",
    "        Livability=pl.col(\"OverallCond\") * pl.col(\"OverallQual\")\n",
    "    )\n",
    "\n",
    "    # ONE HOT ENCODDING OVER CATEGORICAL COLUMNS\n",
    "    CATEGORICAL_POLARS_DTYPES = [pl.Utf8]\n",
    "    cat_columns = pl.col(CATEGORICAL_POLARS_DTYPES)\n",
    "    columns_get_dummies = df.select(cat_columns).columns\n",
    "    df = df.to_dummies(columns=columns_get_dummies)\n",
    "    \n",
    "    # For the rest of missing values, using forward value\n",
    "    return df.fill_null(strategy=\"forward\")"
   ]
  },
  {
   "cell_type": "code",
   "execution_count": 65,
   "id": "0528ec66",
   "metadata": {},
   "outputs": [
    {
     "name": "stderr",
     "output_type": "stream",
     "text": [
      "/Users/lridrue1/opt/anaconda3/envs/pproj310/lib/python3.10/site-packages/polars/series/series.py:1113: RuntimeWarning: divide by zero encountered in log\n",
      "  series = f(lambda out: ufunc(*args, out=out, dtype=dtype_char, **kwargs))\n",
      "/Users/lridrue1/opt/anaconda3/envs/pproj310/lib/python3.10/site-packages/polars/series/series.py:1113: RuntimeWarning: divide by zero encountered in log\n",
      "  series = f(lambda out: ufunc(*args, out=out, dtype=dtype_char, **kwargs))\n"
     ]
    }
   ],
   "source": [
    "train_df = data_preparation(\"../data/train.csv\")\n",
    "test_df = data_preparation(\"../data/test.csv\")"
   ]
  },
  {
   "cell_type": "code",
   "execution_count": 66,
   "id": "7178f606",
   "metadata": {},
   "outputs": [],
   "source": [
    "def feature_selection(df: pl.dataframe, features=[]):\n",
    "    # Transform polars dataframe to pandas\n",
    "    pd_df = df.to_pandas().replace([np.inf, -np.inf], 0, inplace=False)\n",
    "    if not features:\n",
    "        # Split onto X/y\n",
    "        X = pd_df.drop(columns=[\"SalePrice\"])\n",
    "        y = pd_df[[\"SalePrice\"]]\n",
    "\n",
    "        # Obtain feature selection overfitting DecisionTreeClassifier\n",
    "        selector = SelectFromModel(estimator=DecisionTreeClassifier(random_state=2023))\n",
    "        selector = selector.fit(X.dropna(), np.ravel(y))\n",
    "\n",
    "        return pd_df[X.columns[selector.get_support()].tolist() + [\"SalePrice\"]], X.columns[selector.get_support()].tolist()\n",
    "    else:\n",
    "        return pd_df[features]\n"
   ]
  },
  {
   "cell_type": "code",
   "execution_count": 67,
   "id": "8e96c3ba",
   "metadata": {},
   "outputs": [],
   "source": [
    "pd_train, train_features = feature_selection(train_df)\n",
    "pd_test = feature_selection(test_df, train_features)"
   ]
  },
  {
   "cell_type": "code",
   "execution_count": 87,
   "id": "2e12b486",
   "metadata": {},
   "outputs": [],
   "source": [
    "# Due to possible missing columns after applying OHE on test, we fill non-existent values and drop missing from train\n",
    "pd_test = pd_test.reindex(columns=list(set().union(pd_train.columns, pd_test.columns) - set([\"SalePrice\"])), fill_value=0) \\\n",
    "    .drop(columns=list(set(pd_test.columns) - set(pd_train.columns)))"
   ]
  },
  {
   "cell_type": "markdown",
   "id": "ee0dc97f-f24b-41c1-a449-90d178ac482e",
   "metadata": {},
   "source": [
    "## Model"
   ]
  },
  {
   "cell_type": "code",
   "execution_count": 70,
   "id": "bc9bb7ca-4352-44ce-9aa2-8ab14848916e",
   "metadata": {},
   "outputs": [
    {
     "name": "stdout",
     "output_type": "stream",
     "text": [
      "[Train] - Kaggle Metric - Rooted Mean Squared Log Error: 0.14338099296115728\n",
      "[Test] - Kaggle Metric - Rooted Mean Squared Log Error: 0.13680596062067443\n"
     ]
    }
   ],
   "source": [
    "# Split the data onto features and target\n",
    "X = pd_train.drop(columns=[\"SalePrice\"])\n",
    "y = pd_train[\"SalePrice\"]\n",
    "\n",
    "# test_size=0.2 variable means that 20% of the data will be utilised for tests and \n",
    "# random_state=42 is a seed to be able to reproduce results on every iteration\n",
    "X_train, X_test, y_train, y_test = train_test_split(X, y, test_size=0.3, random_state=42)\n",
    "\n",
    "# Define the hyperparameters for the Random Forest Regressor GridSearch\n",
    "params = {\n",
    "    'n_estimators': [100, 500, 1000],\n",
    "    'max_depth': [2, 5, 7, 10],\n",
    "    'min_samples_leaf': [1, 5, 10, 20],\n",
    "}\n",
    "\n",
    "# Create a Random Forest Regressor model\n",
    "rf = RandomForestRegressor()\n",
    "\n",
    "def score_func(y_true, y_pred, **kwargs):\n",
    "    return -mean_squared_log_error(y_true, y_pred, squared=False)\n",
    "\n",
    "scorer = make_scorer(score_func)\n",
    "\n",
    "# Perform a grid search to find the best hyperparameters\n",
    "grid_search = GridSearchCV(rf, params, cv=6, scoring=scorer)\n",
    "grid_search.fit(X_train, y_train)\n",
    "\n",
    "# Evaluate the best model using cross-validation\n",
    "best_model = grid_search.best_estimator_\n",
    "best_score = np.abs(grid_search.best_score_)\n",
    "print(\"[Train] - Kaggle Metric - Rooted Mean Squared Log Error:\", best_score)\n",
    "\n",
    "# Predict on the test data using the best estimator\n",
    "y_pred = best_model.predict(X_test)\n",
    "\n",
    "# Testing validation\n",
    "msle = mean_squared_log_error(y_test, y_pred, squared=False)\n",
    "print(\"[Test] - Kaggle Metric - Rooted Mean Squared Log Error:\", msle)"
   ]
  },
  {
   "cell_type": "code",
   "execution_count": 94,
   "id": "90f28fb0-ae99-43af-9c6e-2882ce1fd766",
   "metadata": {},
   "outputs": [],
   "source": [
    "# Predict on test_df\n",
    "out = pd.DataFrame(\n",
    "    best_model.predict(pd_test[[col for col in pd_train.columns.tolist() if col != \"SalePrice\"]]), \n",
    "    columns = ['SalePrice']\n",
    ")\n",
    "out[\"Id\"] = pd.Series(list(range(1461, 2922)))"
   ]
  },
  {
   "cell_type": "code",
   "execution_count": 96,
   "id": "e31f4db0-276f-4313-82f7-f3299314cd57",
   "metadata": {},
   "outputs": [],
   "source": [
    "out.to_csv(\"../submissions/[RandomForest] polars-house_prices.csv\", header=True, index=False)"
   ]
  }
 ],
 "metadata": {
  "kernelspec": {
   "display_name": "Python 3 (ipykernel)",
   "language": "python",
   "name": "python3"
  },
  "language_info": {
   "codemirror_mode": {
    "name": "ipython",
    "version": 3
   },
   "file_extension": ".py",
   "mimetype": "text/x-python",
   "name": "python",
   "nbconvert_exporter": "python",
   "pygments_lexer": "ipython3",
   "version": "3.10.12"
  }
 },
 "nbformat": 4,
 "nbformat_minor": 5
}
